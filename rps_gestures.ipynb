{
 "cells": [
  {
   "cell_type": "code",
   "execution_count": null,
   "metadata": {},
   "outputs": [],
   "source": [
    "import requests\n",
    "import time\n",
    "import subprocess\n",
    "url = None\n",
    "\n",
    "\n",
    "def send(data):\n",
    "    response = requests.post(url, json=data)\n",
    "    if response.status_code != 200:\n",
    "        print(response.text)\n",
    "        raise"
   ]
  },
  {
   "cell_type": "code",
   "execution_count": null,
   "metadata": {
    "code_folding": [
     1,
     5,
     9,
     19
    ]
   },
   "outputs": [],
   "source": [
    "fingers = ['_thumb', '_index', '_middle', '_ring', '_little']\n",
    "def rock(hand, after=0, velocity=None):\n",
    "    for i, f in enumerate(fingers):\n",
    "        yield {'time_after':after, 'type':'move_to', 'servo_name':hand+f, 'degree':1, 'velocity':velocity}\n",
    "        \n",
    "def paper(hand, after=0, velocity=None):\n",
    "    for i, f in enumerate(fingers):\n",
    "        yield {'time_after':after, 'type':'move_to', 'servo_name':hand+f, 'degree':180, 'velocity':velocity}\n",
    "        \n",
    "def scissors(hand, after=0, velocity=None):\n",
    "    return [\n",
    "        {'time_after':after, 'type':'move_to', 'servo_name':hand+fingers[0], 'degree':65, 'velocity':velocity},\n",
    "        {'time_after':after, 'type':'move_to', 'servo_name':hand+fingers[1], 'degree':180, 'velocity':velocity},\n",
    "        {'time_after':after, 'type':'move_to', 'servo_name':hand+fingers[2], 'degree':180, 'velocity':velocity},\n",
    "        {'time_after':after, 'type':'move_to', 'servo_name':hand+fingers[3], 'degree':5, 'velocity':velocity},\n",
    "        {'time_after':after, 'type':'move_to', 'servo_name':hand+fingers[4], 'degree':5, 'velocity':velocity},\n",
    "        {'time_after':after+1, 'type':'move_to', 'servo_name':hand+fingers[0], 'degree':5, 'velocity':velocity},\n",
    "    ]\n",
    "\n",
    "def play(sign, selected_hand, s=1.5):\n",
    "    # sign: rock, paper, scissors\n",
    "    # rock\n",
    "    do_rock = list(rock(selected_hand, after=0.05, velocity=90))\n",
    "    send(do_rock)\n",
    "\n",
    "    # wrist\n",
    "    send([\n",
    "        {'time_after':0.1, 'type':'move_to', 'servo_name': selected_hand + '_wrist', 'degree': 0, 'velocity': 40}\n",
    "    ])\n",
    "\n",
    "    \n",
    "    up_1 = 0.15\n",
    "    down_1 = up_1 + 1.4\n",
    "    up_2 = down_1 + 0.7\n",
    "    down_2 = up_2 + 1.2\n",
    "    up_3 = down_2 + 0.7\n",
    "    down_3 = up_3 + 1.2\n",
    "    sign_time = down_3 + 0.2\n",
    "    \n",
    "    shoulder_up_velocity = 40\n",
    "    shoulder_down_velocity = 50\n",
    "    bicep_up_velocity = 40\n",
    "    bicep_down_velocity = 60\n",
    "    \n",
    "    delay = 0.05\n",
    "    \n",
    "    def upscale(a):\n",
    "        a['time_after'] *= s\n",
    "        return a\n",
    "    send([upscale(a) for a in [\n",
    "        ## go up\n",
    "        {'time_after':up_1, 'type':'move_to', 'servo_name': selected_hand + '_shoulder', \n",
    "         'degree':150, 'velocity':shoulder_up_velocity},\n",
    "        {'time_after':up_1 + delay , 'type':'move_to', 'servo_name': selected_hand + '_bicep', \n",
    "         'degree':70, 'velocity': bicep_up_velocity},\n",
    "\n",
    "        # go down\n",
    "        {'time_after':down_1, 'type':'move_to', 'servo_name': selected_hand + '_shoulder', \n",
    "         'degree':110, 'velocity':shoulder_down_velocity},\n",
    "        {'time_after':down_1 + delay, 'type':'move_to', 'servo_name': selected_hand + '_bicep', \n",
    "         'degree':10, 'velocity': bicep_down_velocity},\n",
    "\n",
    "        ## go up\n",
    "        {'time_after':up_2, 'type':'move_to', 'servo_name': selected_hand + '_shoulder', \n",
    "         'degree':150, 'velocity':shoulder_up_velocity},\n",
    "        {'time_after':up_2 + delay, 'type':'move_to', 'servo_name': selected_hand +'_bicep', \n",
    "         'degree':70, 'velocity': bicep_up_velocity},\n",
    "\n",
    "        # go down\n",
    "        {'time_after':down_2, 'type':'move_to', 'servo_name': selected_hand + '_shoulder', \n",
    "         'degree':110, 'velocity':shoulder_down_velocity},\n",
    "        {'time_after':down_2 + delay, 'type':'move_to', 'servo_name': selected_hand + '_bicep', \n",
    "         'degree':10, 'velocity': bicep_down_velocity},\n",
    "\n",
    "        ## go up\n",
    "        {'time_after':up_3, 'type':'move_to', 'servo_name': selected_hand + '_shoulder', \n",
    "         'degree':150, 'velocity':shoulder_up_velocity},\n",
    "        {'time_after':up_3 + delay, 'type':'move_to', 'servo_name': selected_hand + '_bicep', \n",
    "         'degree':70, 'velocity': bicep_up_velocity},\n",
    "\n",
    "        # go down\n",
    "        {'time_after':down_3, 'type':'move_to', 'servo_name': selected_hand + '_shoulder', \n",
    "         'degree':110, 'velocity':shoulder_down_velocity},\n",
    "        {'time_after':down_3 + delay, 'type':'move_to', 'servo_name': selected_hand +'_bicep', \n",
    "         'degree':10, 'velocity': bicep_down_velocity},\n",
    "\n",
    "    ]])\n",
    "    \n",
    "    \n",
    "    if sign == 'rock':\n",
    "        selected_action = rock\n",
    "    elif sign == 'paper':\n",
    "        selected_action = paper\n",
    "    elif sign == 'scissors':\n",
    "        selected_action = scissors\n",
    "\n",
    "    do_action = list(selected_action(selected_hand, after=sign_time * s, velocity=160))\n",
    "    send(do_action)\n",
    "    \n",
    "    return (sign_time+1)*s # time to do all the moves\n",
    "\n"
   ]
  },
  {
   "cell_type": "code",
   "execution_count": null,
   "metadata": {
    "code_folding": [
     0
    ]
   },
   "outputs": [],
   "source": [
    "def setup(url_ = 'http://9.138.226.113:8081', killall_delay=8):\n",
    "    global url\n",
    "    if url is not None:\n",
    "        raise Exception('url is already setup')\n",
    "    url = url_\n",
    "    send([\n",
    "        {'time_after':0, 'type':'servos_start'},\n",
    "        {'time_after':killall_delay, 'type':'killall'},\n",
    "    ])\n",
    "    time.sleep(killall_delay+1)"
   ]
  },
  {
   "cell_type": "code",
   "execution_count": null,
   "metadata": {
    "code_folding": [
     0
    ]
   },
   "outputs": [],
   "source": [
    "def init():\n",
    "    #open_hand = list(paper('left', after=0, velocity=90)) + list(paper('right', after=0, velocity=90))\n",
    "    open_hand = list(paper('right', after=0, velocity=90))\n",
    "    send(open_hand)\n",
    "\n",
    "    send([\n",
    "        {'time_after':0, 'type':'move_to', 'servo_name':'right_shoulder', 'degree':90},\n",
    "        #{'time_after':0.1, 'type':'move_to', 'servo_name':'left_shoulder', 'degree':90},\n",
    "        {'time_after':0.2, 'type':'move_to', 'servo_name':'right_bicep', 'degree':0},\n",
    "        #{'time_after':0.3, 'type':'move_to', 'servo_name':'left_bicep', 'degree':0},\n",
    "    ])\n",
    "    return 2"
   ]
  },
  {
   "cell_type": "code",
   "execution_count": null,
   "metadata": {
    "code_folding": [
     0,
     4
    ]
   },
   "outputs": [],
   "source": [
    "def play_soundfile(file):\n",
    "    subprocess.call(['play', file])\n",
    "    #subprocess.call(['sudo', '-u', speak_user, 'play', 'one.wav'], env={'DISPLAY':speak_display})\n",
    "\n",
    "def sound_sequence_with_play(s=1.5, speak_user='taufer', speak_display=':0'):\n",
    "    time.sleep(s*2.0)\n",
    "    play_soundfile('one.wav')\n",
    "    time.sleep(s*1.7)\n",
    "    play_soundfile('two.wav')\n",
    "    time.sleep(s*1.3)\n",
    "    play_soundfile('three.wav')\n",
    "    "
   ]
  },
  {
   "cell_type": "code",
   "execution_count": null,
   "metadata": {},
   "outputs": [],
   "source": [
    "if __name__ == '__main__':\n",
    "    setup()\n",
    "    send([{'type': 'set_detach_delay', 'detach_delay': 5.0}])\n",
    "    init()\n",
    "    time.sleep(3.5)\n",
    "    \n",
    "    s = 1.5\n",
    "    \n",
    "    all_time = play(sign='paper', selected_hand='left', s=s)"
   ]
  },
  {
   "cell_type": "code",
   "execution_count": null,
   "metadata": {},
   "outputs": [],
   "source": [
    "if __name__ == '__main__':\n",
    "    selected_hand='right'\n",
    "    init()"
   ]
  },
  {
   "cell_type": "code",
   "execution_count": 33,
   "metadata": {},
   "outputs": [],
   "source": [
    "if __name__ == '__main__':\n",
    "    #a = random.choice(actions)\n",
    "    #print(a)\n",
    "    url = 'http://9.138.226.113:8081'\n",
    "    play('rock', 'left')\n",
    "    #play('rock', 'right')"
   ]
  },
  {
   "cell_type": "code",
   "execution_count": null,
   "metadata": {},
   "outputs": [],
   "source": []
  }
 ],
 "metadata": {
  "kernelspec": {
   "display_name": "Python 3",
   "language": "python",
   "name": "python3"
  },
  "language_info": {
   "codemirror_mode": {
    "name": "ipython",
    "version": 3
   },
   "file_extension": ".py",
   "mimetype": "text/x-python",
   "name": "python",
   "nbconvert_exporter": "python",
   "pygments_lexer": "ipython3",
   "version": "3.5.2"
  }
 },
 "nbformat": 4,
 "nbformat_minor": 2
}
