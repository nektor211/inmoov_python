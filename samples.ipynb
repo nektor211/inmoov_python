{
 "cells": [
  {
   "cell_type": "code",
   "execution_count": null,
   "metadata": {},
   "outputs": [],
   "source": [
    "import rps_gestures"
   ]
  },
  {
   "cell_type": "code",
   "execution_count": null,
   "metadata": {},
   "outputs": [],
   "source": [
    "rps_gestures.send(\n",
    "    [\n",
    "        {'time_after':0, 'type':'move_to', 'servo_name':'head_rothead', 'degree':35, 'velocity':50},\n",
    "        {'time_after':0, 'type':'move_to', 'servo_name':'head_eyex', 'degree':180, 'velocity':25},\n",
    "        {'time_after':2.0, 'type':'move_to', 'servo_name':'head_rothead', 'degree':145, 'velocity':50},\n",
    "        {'time_after':2.0, 'type':'move_to', 'servo_name':'head_eyex', 'degree':0, 'velocity':25},\n",
    "        {'time_after':5.4, 'type':'move_to', 'servo_name':'head_rothead', 'degree':90, 'velocity':50},\n",
    "        {'time_after':5.4, 'type':'move_to', 'servo_name':'head_eyex', 'degree':90, 'velocity':25},\n",
    "        \n",
    "    ]\n",
    ")\n",
    "rps_gestures.send(\n",
    "    [\n",
    "        {'time_after':0, 'type':'move_to', 'servo_name':'head_jaw', 'degree':0, 'velocity':190},\n",
    "        {'time_after':1.0, 'type':'move_to', 'servo_name':'head_jaw', 'degree':180, 'velocity':190},\n",
    "        {'time_after':2.0, 'type':'move_to', 'servo_name':'head_jaw', 'degree':0, 'velocity':190},\n",
    "        {'time_after':3.0, 'type':'move_to', 'servo_name':'head_jaw', 'degree':180, 'velocity':190},\n",
    "        {'time_after':4.0, 'type':'move_to', 'servo_name':'head_jaw', 'degree':0, 'velocity':190},\n",
    "        {'time_after':5.0, 'type':'move_to', 'servo_name':'head_jaw', 'degree':0, 'velocity':190},\n",
    "        \n",
    "        \n",
    "    ]\n",
    ")\n"
   ]
  },
  {
   "cell_type": "code",
   "execution_count": null,
   "metadata": {},
   "outputs": [],
   "source": [
    "rps_gestures.send(\n",
    "    [\n",
    "        {'time_after':0, 'type':'move_to', 'servo_name':'right_omoplate', 'degree':45, 'velocity':35},\n",
    "        {'time_after':0, 'type':'move_to', 'servo_name':'right_shoulder', 'degree':155, 'velocity':35},\n",
    "        {'time_after':0, 'type':'move_to', 'servo_name':'right_bicep', 'degree':80, 'velocity':35},\n",
    "        {'time_after':2, 'type':'move_to', 'servo_name':'right_omoplate', 'degree':0, 'velocity':35},\n",
    "        {'time_after':2, 'type':'move_to', 'servo_name':'right_shoulder', 'degree':90, 'velocity':35},\n",
    "        {'time_after':2, 'type':'move_to', 'servo_name':'right_bicep', 'degree':25, 'velocity':35},\n",
    "        {'time_after':4, 'type':'move_to', 'servo_name':'right_shoulder', 'degree':55, 'velocity':35},\n",
    "        {'time_after':4, 'type':'move_to', 'servo_name':'right_bicep', 'degree':80, 'velocity':35},\n",
    "        {'time_after':4, 'type':'move_to', 'servo_name':'right_rotate', 'degree':155, 'velocity':35},\n",
    "        \n",
    "        {'time_after':6, 'type':'move_to', 'servo_name':'right_omoplate', 'degree':0, 'velocity':35},\n",
    "        {'time_after':6, 'type':'move_to', 'servo_name':'right_shoulder', 'degree':90, 'velocity':35},\n",
    "        {'time_after':6, 'type':'move_to', 'servo_name':'right_bicep', 'degree':25, 'velocity':35},\n",
    "        {'time_after':6, 'type':'move_to', 'servo_name':'right_rotate', 'degree':90, 'velocity':35},\n",
    "        \n",
    "    ]\n",
    ")\n",
    "\n"
   ]
  },
  {
   "cell_type": "code",
   "execution_count": null,
   "metadata": {},
   "outputs": [],
   "source": [
    "rps_gestures.send(\n",
    "    [\n",
    "        {'time_after':0, 'type':'move_to', 'servo_name':'torso_mid', 'degree':135, 'velocity':35},\n",
    "        {'time_after':0.2, 'type':'move_to', 'servo_name':'head_rothead', 'degree':130, 'velocity':15},\n",
    "        {'time_after':2.2, 'type':'move_to', 'servo_name':'torso_mid', 'degree':90, 'velocity':35},\n",
    "        {'time_after':2.4, 'type':'move_to', 'servo_name':'head_rothead', 'degree':90, 'velocity':15},\n",
    "\n",
    "    ]\n",
    ")"
   ]
  },
  {
   "cell_type": "code",
   "execution_count": null,
   "metadata": {},
   "outputs": [],
   "source": [
    "rps_gestures.send(\n",
    "    [\n",
    "        {'time_after':0, 'type':'move_to', 'servo_name':'torso_top', 'degree':135, 'velocity':35},\n",
    "        \n",
    "        {'time_after':1.5, 'type':'move_to', 'servo_name':'torso_top', 'degree':45, 'velocity':35},\n",
    "        \n",
    "        {'time_after':3.7, 'type':'move_to', 'servo_name':'torso_top', 'degree':95, 'velocity':35},\n",
    "        \n",
    "    ]\n",
    ")"
   ]
  },
  {
   "cell_type": "code",
   "execution_count": null,
   "metadata": {},
   "outputs": [],
   "source": [
    "rps_gestures.send([     \n",
    "    {'time_after':0, 'type':'move_to', 'servo_name':'right_omoplate', 'degree':75, 'velocity':35},\n",
    "    {'time_after':3., 'type':'move_to', 'servo_name':'right_omoplate', 'degree':0, 'velocity':35},\n",
    "                  ])"
   ]
  }
 ],
 "metadata": {
  "kernelspec": {
   "display_name": "Python 3",
   "language": "python",
   "name": "python3"
  },
  "language_info": {
   "codemirror_mode": {
    "name": "ipython",
    "version": 3
   },
   "file_extension": ".py",
   "mimetype": "text/x-python",
   "name": "python",
   "nbconvert_exporter": "python",
   "pygments_lexer": "ipython3",
   "version": "3.5.2"
  }
 },
 "nbformat": 4,
 "nbformat_minor": 2
}
